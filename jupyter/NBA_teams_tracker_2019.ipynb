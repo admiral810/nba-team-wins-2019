{
 "cells": [
  {
   "cell_type": "code",
   "execution_count": 2,
   "metadata": {},
   "outputs": [],
   "source": [
    "# import libraries\n",
    "from splinter import Browser\n",
    "from splinter.exceptions import ElementDoesNotExist\n",
    "from bs4 import BeautifulSoup\n",
    "import time"
   ]
  },
  {
   "cell_type": "code",
   "execution_count": 4,
   "metadata": {},
   "outputs": [],
   "source": [
    "# import pandas\n",
    "import pandas as pd "
   ]
  },
  {
   "cell_type": "markdown",
   "metadata": {},
   "source": [
    "# ESPN Scrape\n",
    "#### Using CBS for now, ESPN as a backup.  As such commented out for now."
   ]
  },
  {
   "cell_type": "code",
   "execution_count": null,
   "metadata": {},
   "outputs": [],
   "source": [
    "# espn_url = 'https://www.espn.com/nba/standings/_/group/league'"
   ]
  },
  {
   "cell_type": "code",
   "execution_count": null,
   "metadata": {},
   "outputs": [],
   "source": [
    "# espn_tables = pd.read_html(espn_url)\n",
    "# teams_df = espn_tables[0]\n",
    "# standings_df = espn_tables[1]"
   ]
  },
  {
   "cell_type": "code",
   "execution_count": null,
   "metadata": {},
   "outputs": [],
   "source": [
    "# teams_df.head()"
   ]
  },
  {
   "cell_type": "code",
   "execution_count": null,
   "metadata": {},
   "outputs": [],
   "source": [
    "# standings_df.head()"
   ]
  },
  {
   "cell_type": "markdown",
   "metadata": {},
   "source": [
    "# CBS Sports Scrape"
   ]
  },
  {
   "cell_type": "code",
   "execution_count": null,
   "metadata": {},
   "outputs": [],
   "source": [
    "cbs_url = 'https://www.cbssports.com/nba/standings/'"
   ]
  },
  {
   "cell_type": "code",
   "execution_count": null,
   "metadata": {},
   "outputs": [],
   "source": [
    "cbs_tables = pd.read_html(cbs_url)\n",
    "east_df = cbs_tables[0]\n",
    "east_df.head(3)"
   ]
  },
  {
   "cell_type": "code",
   "execution_count": null,
   "metadata": {},
   "outputs": [],
   "source": [
    "east_df.columns = ['delete', 'Team' ,'Wins' ,'Losses' ,'Win Percentage' ,'Games Back' ,'PPG' ,'OPPG' ,\n",
    "                   'Point Differential' ,'Home Record' ,'Road Record' ,'Div Record vs Opp' ,\n",
    "                   'Conf Record vs Opp' ,'Streak' ,'Last 10 Gm' ,'Projected Wins' ,'Div Winner Projection' ,\n",
    "                   'Post Projection']"
   ]
  },
  {
   "cell_type": "code",
   "execution_count": null,
   "metadata": {},
   "outputs": [],
   "source": [
    "east_df = east_df.drop(columns='delete')\n",
    "east_df.head()"
   ]
  },
  {
   "cell_type": "code",
   "execution_count": null,
   "metadata": {},
   "outputs": [],
   "source": [
    "east_df.set_index('Team', inplace=True)\n",
    "east_df.head(3)"
   ]
  },
  {
   "cell_type": "code",
   "execution_count": null,
   "metadata": {},
   "outputs": [],
   "source": [
    "cbs_tables = pd.read_html(cbs_url)\n",
    "west_df = cbs_tables[1]\n",
    "west_df.head(3)"
   ]
  },
  {
   "cell_type": "code",
   "execution_count": null,
   "metadata": {},
   "outputs": [],
   "source": [
    "west_df.columns = ['delete', 'Team' ,'Wins' ,'Losses' ,'Win Percentage' ,'Games Back' ,'PPG' ,'OPPG' ,\n",
    "                   'Point Differential' ,'Home Record' ,'Road Record' ,'Div Record vs Opp' ,\n",
    "                   'Conf Record vs Opp' ,'Streak' ,'Last 10 Gm' ,'Projected Wins' ,'Div Winner Projection' ,\n",
    "                   'Post Projection']"
   ]
  },
  {
   "cell_type": "code",
   "execution_count": null,
   "metadata": {},
   "outputs": [],
   "source": [
    "west_df = west_df.drop(columns='delete')\n",
    "west_df.head(3)"
   ]
  },
  {
   "cell_type": "code",
   "execution_count": null,
   "metadata": {},
   "outputs": [],
   "source": [
    "west_df.set_index('Team', inplace=True)\n",
    "west_df.head(3)"
   ]
  },
  {
   "cell_type": "code",
   "execution_count": null,
   "metadata": {},
   "outputs": [],
   "source": [
    "nba_df = pd.concat([east_df, west_df], axis=0, sort=False)\n",
    "nba_df.head(3)"
   ]
  },
  {
   "cell_type": "code",
   "execution_count": null,
   "metadata": {},
   "outputs": [],
   "source": [
    "# adding a wins for the last 10 games column\n",
    "last_10_wins = nba_df[\"Last 10 Gm\"].str.split(\"-\", n=1, expand=True)\n",
    "nba_df[\"Last 10 Gm Wins\"] = last_10_wins[0]\n",
    "nba_df[\"Last 10 Gm Wins\"] = nba_df[\"Last 10 Gm Wins\"].astype('int64')\n",
    "nba_df.head()"
   ]
  },
  {
   "cell_type": "code",
   "execution_count": null,
   "metadata": {},
   "outputs": [],
   "source": [
    "nba_df.dtypes"
   ]
  },
  {
   "cell_type": "markdown",
   "metadata": {},
   "source": [
    "# Get owners by team data"
   ]
  },
  {
   "cell_type": "code",
   "execution_count": null,
   "metadata": {},
   "outputs": [],
   "source": [
    "owners_df = pd.read_csv(\"team_owners.csv\")\n",
    "owners_df.head()"
   ]
  },
  {
   "cell_type": "code",
   "execution_count": null,
   "metadata": {},
   "outputs": [],
   "source": [
    "# add column for owner to the nba dataframe\n",
    "nba_df = pd.merge(nba_df, owners_df, how=\"inner\", on=\"Team\", sort=False)"
   ]
  },
  {
   "cell_type": "code",
   "execution_count": null,
   "metadata": {},
   "outputs": [],
   "source": [
    "# dataframe now has owner information\n",
    "nba_df.head()"
   ]
  },
  {
   "cell_type": "markdown",
   "metadata": {},
   "source": [
    "# Summary Reporting\n",
    "#### Complete the final analysis for tables that will go in the app"
   ]
  },
  {
   "cell_type": "code",
   "execution_count": null,
   "metadata": {},
   "outputs": [],
   "source": [
    "# remove any teams that are unowned\n",
    "nba_df = nba_df[nba_df[\"Owner\"] != \"Unowned\"]\n",
    "nba_df"
   ]
  },
  {
   "cell_type": "code",
   "execution_count": null,
   "metadata": {},
   "outputs": [],
   "source": [
    "# group by owners for totals\n",
    "nba_grouped_df = nba_df.groupby(nba_df[\"Owner\"])\n",
    "nba_grouped_df = nba_grouped_df[[\"Wins\", \"Losses\", \"Point Differential\", \"Projected Wins\", \"Last 10 Gm Wins\"]].sum().reset_index()\n",
    "nba_grouped_df.head()"
   ]
  },
  {
   "cell_type": "code",
   "execution_count": null,
   "metadata": {},
   "outputs": [],
   "source": [
    "# group by owners plus teams for team info\n",
    "teams_owner_df = nba_df.groupby([nba_df[\"Owner\"], nba_df[\"Team\"]])\n",
    "teams_owner_df.sum().reset_index()"
   ]
  },
  {
   "cell_type": "code",
   "execution_count": 6,
   "metadata": {},
   "outputs": [],
   "source": [
    "    # visit the site\n",
    "    cbs_url = 'https://www.cbssports.com/nba/standings/'\n",
    "\n",
    "    ## EASTERN CONFERENCE TABLE ##\n",
    "    # scrape page into pandas table\n",
    "\n",
    "    cbs_tables = pd.read_html(cbs_url)\n",
    "    east_df = cbs_tables[0]\n",
    "\n",
    "    # data cleaning\n",
    "    east_df.columns = ['delete', 'Team' ,'Wins' ,'Losses' ,'Win Percentage' ,'Games Back' ,'PPG' ,'OPPG' ,\n",
    "                   'Point Differential' ,'Home Record' ,'Road Record' ,'Div Record vs Opp' ,\n",
    "                   'Conf Record vs Opp' ,'Streak' ,'Last 10 Gm' ,'Projected Wins' ,'Div Winner Projection' ,\n",
    "                   'Post Projection']\n",
    "    east_df = east_df.drop(columns='delete')\n",
    "\n",
    "    # set index to team for later join\n",
    "    east_df.set_index('Team', inplace=True)\n",
    "\n",
    "    ## WESTERN CONFERENCE TABLE ##\n",
    "    cbs_tables = pd.read_html(cbs_url)\n",
    "    west_df = cbs_tables[1]\n",
    "\n",
    "    # data cleaning\n",
    "\n",
    "    west_df.columns = ['delete', 'Team' ,'Wins' ,'Losses' ,'Win Percentage' ,'Games Back' ,'PPG' ,'OPPG' ,\n",
    "                   'Point Differential' ,'Home Record' ,'Road Record' ,'Div Record vs Opp' ,\n",
    "                   'Conf Record vs Opp' ,'Streak' ,'Last 10 Gm' ,'Projected Wins' ,'Div Winner Projection' ,\n",
    "                   'Post Projection']\n",
    "    west_df = west_df.drop(columns='delete')\n",
    "    \n",
    "    # set index to team for later join\n",
    "    west_df.set_index('Team', inplace=True)\n",
    "\n",
    "    ## JOIN TO CONNFERENCE TABLES\n",
    "    nba_df = pd.concat([east_df, west_df], axis=0, sort=False)\n",
    "\n",
    "    # adding a wins for the last 10 games column\n",
    "    last_10_wins = nba_df[\"Last 10 Gm\"].str.split(\"-\", n=1, expand=True)\n",
    "    nba_df[\"Last 10 Gm Wins\"] = last_10_wins[0]\n",
    "    nba_df[\"Last 10 Gm Wins\"] = nba_df[\"Last 10 Gm Wins\"].astype('int64')\n",
    "\n",
    "    ## GET OWNERS TEAM DATA ##\n",
    "    owners_df = pd.DataFrame(\n",
    "    {\"Team\": ['Philadelphia', 'Orlando', 'Chicago', 'Utah', 'San Antonio', 'Memphis', 'Golden St.', 'Miami', 'Toronto', 'Cleveland', 'L.A. Lakers', 'Houston', 'Minnesota', 'New Orleans', 'Indiana', 'Brooklyn', 'Denver', 'L.A. Clippers', 'Phoenix', 'Sacramento', 'Oklahoma City', 'Milwaukee', 'Boston', 'Washington', 'Detroit', 'Atlanta', 'Dallas', 'Portland', 'Charlotte', 'New York' ],\n",
    "     \"Owner\": ['Adam', 'Adam', 'Adam', 'Adam', 'Adam', 'Adam', 'Adam', 'Joey', 'Joey', 'Joey', 'Joey', 'Joey', 'Joey', 'Joey', 'Johnny', 'Johnny', 'Johnny', 'Johnny', 'Johnny', 'Johnny', 'Johnny', 'Robert', 'Robert', 'Robert', 'Robert', 'Robert', 'Robert', 'Robert', 'Unowned', 'Unowned']\n",
    "    })\n",
    "\n",
    "    # add column for owner to the nba dataframe\n",
    "    nba_df = pd.merge(nba_df, owners_df, how=\"inner\", on=\"Team\", sort=False)\n",
    "\n",
    "    # remove any teams that are unowned\n",
    "    nba_df = nba_df[nba_df[\"Owner\"] != \"Unowned\"]\n",
    "\n",
    "    # group by owners for totals\n",
    "    nba_grouped_df = nba_df.groupby(nba_df[\"Owner\"])\n",
    "    nba_grouped_df = nba_grouped_df[[\"Wins\", \"Losses\", \"Point Differential\", \"Projected Wins\", \"Last 10 Gm Wins\"]].sum().reset_index()\n",
    "\n"
   ]
  },
  {
   "cell_type": "code",
   "execution_count": 7,
   "metadata": {},
   "outputs": [],
   "source": [
    "# import dependencies\n",
    "from sqlalchemy import create_engine\n",
    "\n",
    "# connect to local database\n",
    "database_path = \"nba_db.sqlite\"\n",
    "engine = create_engine(f\"sqlite:///{database_path}\")\n",
    "nba_grouped_df.to_sql(name='owners_summary', con=engine, if_exists='append', index=True)"
   ]
  },
  {
   "cell_type": "markdown",
   "metadata": {},
   "source": [
    "# If cannot get a primary key in the .to_sql method"
   ]
  },
  {
   "cell_type": "code",
   "execution_count": 16,
   "metadata": {},
   "outputs": [
    {
     "data": {
      "text/plain": [
       "{'Owner': ['Adam', 'Joey', 'Johnny', 'Robert'],\n",
       " 'Wins': [117, 139, 138, 128],\n",
       " 'Losses': [141, 112, 117, 127],\n",
       " 'Point Differential': [-8.6, 6.4, 8.900000000000002, 7.8999999999999995],\n",
       " 'Projected Wins': [274.2, 303.0, 309.79999999999995, 287.1],\n",
       " 'Last 10 Gm Wins': [36, 40, 34, 33]}"
      ]
     },
     "execution_count": 16,
     "metadata": {},
     "output_type": "execute_result"
    }
   ],
   "source": [
    "# in case we need to use a non \"to_sql\" funtion to define a primary key\n",
    "nba_grouped_dict = nba_grouped_df.to_dict(orient=\"list\")\n",
    "nba_grouped_dict"
   ]
  },
  {
   "cell_type": "code",
   "execution_count": 31,
   "metadata": {},
   "outputs": [],
   "source": [
    "owners = nba_grouped_dict[\"Owner\"]\n",
    "wins = nba_grouped_dict[\"Wins\"]\n",
    "losses = nba_grouped_dict[\"Losses\"]\n",
    "point_differential = nba_grouped_dict[\"Point Differential\"]\n",
    "projected_wins = nba_grouped_dict[\"Projected Wins\"]\n",
    "last_10_wins = nba_grouped_dict[\"Last 10 Gm Wins\"]"
   ]
  },
  {
   "cell_type": "code",
   "execution_count": 33,
   "metadata": {},
   "outputs": [],
   "source": [
    "from sqlalchemy import Table, Column, Integer, String, MetaData\n",
    "meta = MetaData()"
   ]
  },
  {
   "cell_type": "code",
   "execution_count": 34,
   "metadata": {},
   "outputs": [],
   "source": [
    "meta.create_all(engine)"
   ]
  },
  {
   "cell_type": "code",
   "execution_count": null,
   "metadata": {},
   "outputs": [],
   "source": [
    "owner_data2 = Table(\n",
    "   'owner_data2', meta, \n",
    "   Column('owners', Integer, primary_key = True), \n",
    "   Column('name', String), \n",
    "   Column('lastname', String),\n",
    ")\n",
    "meta.create_all(engine)"
   ]
  }
 ],
 "metadata": {
  "kernelspec": {
   "display_name": "Python 3",
   "language": "python",
   "name": "python3"
  },
  "language_info": {
   "codemirror_mode": {
    "name": "ipython",
    "version": 3
   },
   "file_extension": ".py",
   "mimetype": "text/x-python",
   "name": "python",
   "nbconvert_exporter": "python",
   "pygments_lexer": "ipython3",
   "version": "3.7.3"
  },
  "varInspector": {
   "cols": {
    "lenName": 16,
    "lenType": 16,
    "lenVar": 40
   },
   "kernels_config": {
    "python": {
     "delete_cmd_postfix": "",
     "delete_cmd_prefix": "del ",
     "library": "var_list.py",
     "varRefreshCmd": "print(var_dic_list())"
    },
    "r": {
     "delete_cmd_postfix": ") ",
     "delete_cmd_prefix": "rm(",
     "library": "var_list.r",
     "varRefreshCmd": "cat(var_dic_list()) "
    }
   },
   "types_to_exclude": [
    "module",
    "function",
    "builtin_function_or_method",
    "instance",
    "_Feature"
   ],
   "window_display": false
  }
 },
 "nbformat": 4,
 "nbformat_minor": 2
}
